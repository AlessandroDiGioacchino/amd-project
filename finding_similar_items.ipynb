{
  "nbformat": 4,
  "nbformat_minor": 0,
  "metadata": {
    "colab": {
      "provenance": [],
      "authorship_tag": "ABX9TyNhMZZMihL022sZ1lCtt2yg",
      "include_colab_link": true
    },
    "kernelspec": {
      "name": "python3",
      "display_name": "Python 3"
    },
    "language_info": {
      "name": "python"
    }
  },
  "cells": [
    {
      "cell_type": "markdown",
      "metadata": {
        "id": "view-in-github",
        "colab_type": "text"
      },
      "source": [
        "<a href=\"https://colab.research.google.com/github/AlessandroDiGioacchino/amd-project/blob/main/finding_similar_items.ipynb\" target=\"_parent\"><img src=\"https://colab.research.google.com/assets/colab-badge.svg\" alt=\"Open In Colab\"/></a>"
      ]
    },
    {
      "cell_type": "code",
      "execution_count": null,
      "metadata": {
        "id": "gzB4YlsEEjW7"
      },
      "outputs": [],
      "source": []
    },
    {
      "cell_type": "code",
      "execution_count": null,
      "metadata": {
        "colab": {
          "base_uri": "https://localhost:8080/",
          "height": 92
        },
        "outputId": "abe4a717-d1e8-472d-c6d3-f029ccfeb231",
        "id": "qh5WZPgySVjA"
      },
      "outputs": [
        {
          "output_type": "display_data",
          "data": {
            "text/plain": [
              "<IPython.core.display.HTML object>"
            ],
            "text/html": [
              "\n",
              "     <input type=\"file\" id=\"files-5c4c1120-a000-4a10-895c-4b114d375006\" name=\"files[]\" multiple disabled\n",
              "        style=\"border:none\" />\n",
              "     <output id=\"result-5c4c1120-a000-4a10-895c-4b114d375006\">\n",
              "      Upload widget is only available when the cell has been executed in the\n",
              "      current browser session. Please rerun this cell to enable.\n",
              "      </output>\n",
              "      <script>// Copyright 2017 Google LLC\n",
              "//\n",
              "// Licensed under the Apache License, Version 2.0 (the \"License\");\n",
              "// you may not use this file except in compliance with the License.\n",
              "// You may obtain a copy of the License at\n",
              "//\n",
              "//      http://www.apache.org/licenses/LICENSE-2.0\n",
              "//\n",
              "// Unless required by applicable law or agreed to in writing, software\n",
              "// distributed under the License is distributed on an \"AS IS\" BASIS,\n",
              "// WITHOUT WARRANTIES OR CONDITIONS OF ANY KIND, either express or implied.\n",
              "// See the License for the specific language governing permissions and\n",
              "// limitations under the License.\n",
              "\n",
              "/**\n",
              " * @fileoverview Helpers for google.colab Python module.\n",
              " */\n",
              "(function(scope) {\n",
              "function span(text, styleAttributes = {}) {\n",
              "  const element = document.createElement('span');\n",
              "  element.textContent = text;\n",
              "  for (const key of Object.keys(styleAttributes)) {\n",
              "    element.style[key] = styleAttributes[key];\n",
              "  }\n",
              "  return element;\n",
              "}\n",
              "\n",
              "// Max number of bytes which will be uploaded at a time.\n",
              "const MAX_PAYLOAD_SIZE = 100 * 1024;\n",
              "\n",
              "function _uploadFiles(inputId, outputId) {\n",
              "  const steps = uploadFilesStep(inputId, outputId);\n",
              "  const outputElement = document.getElementById(outputId);\n",
              "  // Cache steps on the outputElement to make it available for the next call\n",
              "  // to uploadFilesContinue from Python.\n",
              "  outputElement.steps = steps;\n",
              "\n",
              "  return _uploadFilesContinue(outputId);\n",
              "}\n",
              "\n",
              "// This is roughly an async generator (not supported in the browser yet),\n",
              "// where there are multiple asynchronous steps and the Python side is going\n",
              "// to poll for completion of each step.\n",
              "// This uses a Promise to block the python side on completion of each step,\n",
              "// then passes the result of the previous step as the input to the next step.\n",
              "function _uploadFilesContinue(outputId) {\n",
              "  const outputElement = document.getElementById(outputId);\n",
              "  const steps = outputElement.steps;\n",
              "\n",
              "  const next = steps.next(outputElement.lastPromiseValue);\n",
              "  return Promise.resolve(next.value.promise).then((value) => {\n",
              "    // Cache the last promise value to make it available to the next\n",
              "    // step of the generator.\n",
              "    outputElement.lastPromiseValue = value;\n",
              "    return next.value.response;\n",
              "  });\n",
              "}\n",
              "\n",
              "/**\n",
              " * Generator function which is called between each async step of the upload\n",
              " * process.\n",
              " * @param {string} inputId Element ID of the input file picker element.\n",
              " * @param {string} outputId Element ID of the output display.\n",
              " * @return {!Iterable<!Object>} Iterable of next steps.\n",
              " */\n",
              "function* uploadFilesStep(inputId, outputId) {\n",
              "  const inputElement = document.getElementById(inputId);\n",
              "  inputElement.disabled = false;\n",
              "\n",
              "  const outputElement = document.getElementById(outputId);\n",
              "  outputElement.innerHTML = '';\n",
              "\n",
              "  const pickedPromise = new Promise((resolve) => {\n",
              "    inputElement.addEventListener('change', (e) => {\n",
              "      resolve(e.target.files);\n",
              "    });\n",
              "  });\n",
              "\n",
              "  const cancel = document.createElement('button');\n",
              "  inputElement.parentElement.appendChild(cancel);\n",
              "  cancel.textContent = 'Cancel upload';\n",
              "  const cancelPromise = new Promise((resolve) => {\n",
              "    cancel.onclick = () => {\n",
              "      resolve(null);\n",
              "    };\n",
              "  });\n",
              "\n",
              "  // Wait for the user to pick the files.\n",
              "  const files = yield {\n",
              "    promise: Promise.race([pickedPromise, cancelPromise]),\n",
              "    response: {\n",
              "      action: 'starting',\n",
              "    }\n",
              "  };\n",
              "\n",
              "  cancel.remove();\n",
              "\n",
              "  // Disable the input element since further picks are not allowed.\n",
              "  inputElement.disabled = true;\n",
              "\n",
              "  if (!files) {\n",
              "    return {\n",
              "      response: {\n",
              "        action: 'complete',\n",
              "      }\n",
              "    };\n",
              "  }\n",
              "\n",
              "  for (const file of files) {\n",
              "    const li = document.createElement('li');\n",
              "    li.append(span(file.name, {fontWeight: 'bold'}));\n",
              "    li.append(span(\n",
              "        `(${file.type || 'n/a'}) - ${file.size} bytes, ` +\n",
              "        `last modified: ${\n",
              "            file.lastModifiedDate ? file.lastModifiedDate.toLocaleDateString() :\n",
              "                                    'n/a'} - `));\n",
              "    const percent = span('0% done');\n",
              "    li.appendChild(percent);\n",
              "\n",
              "    outputElement.appendChild(li);\n",
              "\n",
              "    const fileDataPromise = new Promise((resolve) => {\n",
              "      const reader = new FileReader();\n",
              "      reader.onload = (e) => {\n",
              "        resolve(e.target.result);\n",
              "      };\n",
              "      reader.readAsArrayBuffer(file);\n",
              "    });\n",
              "    // Wait for the data to be ready.\n",
              "    let fileData = yield {\n",
              "      promise: fileDataPromise,\n",
              "      response: {\n",
              "        action: 'continue',\n",
              "      }\n",
              "    };\n",
              "\n",
              "    // Use a chunked sending to avoid message size limits. See b/62115660.\n",
              "    let position = 0;\n",
              "    do {\n",
              "      const length = Math.min(fileData.byteLength - position, MAX_PAYLOAD_SIZE);\n",
              "      const chunk = new Uint8Array(fileData, position, length);\n",
              "      position += length;\n",
              "\n",
              "      const base64 = btoa(String.fromCharCode.apply(null, chunk));\n",
              "      yield {\n",
              "        response: {\n",
              "          action: 'append',\n",
              "          file: file.name,\n",
              "          data: base64,\n",
              "        },\n",
              "      };\n",
              "\n",
              "      let percentDone = fileData.byteLength === 0 ?\n",
              "          100 :\n",
              "          Math.round((position / fileData.byteLength) * 100);\n",
              "      percent.textContent = `${percentDone}% done`;\n",
              "\n",
              "    } while (position < fileData.byteLength);\n",
              "  }\n",
              "\n",
              "  // All done.\n",
              "  yield {\n",
              "    response: {\n",
              "      action: 'complete',\n",
              "    }\n",
              "  };\n",
              "}\n",
              "\n",
              "scope.google = scope.google || {};\n",
              "scope.google.colab = scope.google.colab || {};\n",
              "scope.google.colab._files = {\n",
              "  _uploadFiles,\n",
              "  _uploadFilesContinue,\n",
              "};\n",
              "})(self);\n",
              "</script> "
            ]
          },
          "metadata": {}
        },
        {
          "output_type": "stream",
          "name": "stdout",
          "text": [
            "Saving kaggle.json to kaggle.json\n"
          ]
        },
        {
          "output_type": "execute_result",
          "data": {
            "text/plain": [
              "{'kaggle.json': b'{\"username\":\"alessandrodigio\",\"key\":\"6f89423630ec7ffb9c31bef52bcb6999\"}'}"
            ]
          },
          "metadata": {},
          "execution_count": 1
        }
      ],
      "source": [
        "\n",
        "from google.colab import files\n",
        "\n",
        "files.upload()\n"
      ]
    },
    {
      "cell_type": "code",
      "execution_count": null,
      "metadata": {
        "id": "y47aH_tVSVjC"
      },
      "outputs": [],
      "source": [
        "\n",
        "!pip install -q kaggle\n",
        "\n",
        "!mkdir -p ~/.kaggle\n",
        "!mv kaggle.json ~/.kaggle\n",
        "!chmod 600 ~/.kaggle/kaggle.json\n"
      ]
    },
    {
      "cell_type": "code",
      "execution_count": null,
      "metadata": {
        "colab": {
          "base_uri": "https://localhost:8080/"
        },
        "outputId": "f96d502a-601e-499f-cf3e-57326819daa6",
        "id": "GgWMUnlbSVjC"
      },
      "outputs": [
        {
          "output_type": "stream",
          "name": "stdout",
          "text": [
            "Downloading yelp-dataset.zip to /content\n",
            "100% 4.06G/4.07G [00:34<00:00, 127MB/s]\n",
            "100% 4.07G/4.07G [00:34<00:00, 127MB/s]\n"
          ]
        }
      ],
      "source": [
        "!kaggle datasets download -d yelp-dataset/yelp-dataset"
      ]
    },
    {
      "cell_type": "code",
      "execution_count": null,
      "metadata": {
        "colab": {
          "base_uri": "https://localhost:8080/"
        },
        "outputId": "b0aeb9ff-a466-473d-876d-2559b347337d",
        "id": "Iupgym2RSVjD"
      },
      "outputs": [
        {
          "output_type": "stream",
          "name": "stdout",
          "text": [
            "Archive:  yelp-dataset.zip\n",
            "  inflating: yelp-dataset/Dataset_User_Agreement.pdf  \n",
            "  inflating: yelp-dataset/yelp_academic_dataset_business.json  \n",
            "  inflating: yelp-dataset/yelp_academic_dataset_checkin.json  \n",
            "  inflating: yelp-dataset/yelp_academic_dataset_review.json  \n",
            "  inflating: yelp-dataset/yelp_academic_dataset_tip.json  \n",
            "  inflating: yelp-dataset/yelp_academic_dataset_user.json  \n"
          ]
        }
      ],
      "source": [
        "!unzip -n yelp-dataset.zip -d yelp-dataset"
      ]
    },
    {
      "cell_type": "code",
      "execution_count": null,
      "metadata": {
        "id": "Oewd-E4fSVjD"
      },
      "outputs": [],
      "source": [
        "\n",
        "import json\n",
        "import pandas as pd\n",
        "import random\n",
        "\n",
        "\n",
        "data_file = 'yelp-dataset/yelp_academic_dataset_review.json'\n",
        "\n",
        "length_limit = 524288\n",
        "json_lines = []\n",
        "\n",
        "with open( data_file, 'r' ) as json_file:\n",
        "  for _ in range( length_limit ):\n",
        "    line = json_file.readline()\n",
        "\n",
        "    if not line:\n",
        "      break\n",
        "\n",
        "    json_lines.append( line )\n",
        "\n",
        "\n",
        "sample_size = 1024\n",
        "k = 5  # k-grams length\n",
        "n = 256  # Amount of signatures\n",
        "t = .6  # Similarity threshold\n",
        "\n",
        "random.seed( round( 5 * 128 * .9 ) )\n",
        "random_sample = random.sample( json_lines, sample_size )\n",
        "parsed_data = [ json.loads( line ) for line in random_sample ]\n",
        "review_df = pd.DataFrame( parsed_data )\n"
      ]
    },
    {
      "cell_type": "code",
      "execution_count": null,
      "metadata": {
        "id": "S4HR8zDQSVjF",
        "colab": {
          "base_uri": "https://localhost:8080/",
          "height": 293
        },
        "outputId": "1840d33d-a396-47d8-d02a-126b3963fb33"
      },
      "outputs": [
        {
          "output_type": "execute_result",
          "data": {
            "text/plain": [
              "                review_id                 user_id             business_id  \\\n",
              "0  zHPV2wVdJRCXXUiOsYR1EQ  kBKBZ3TQctQSR7rvev_E4Q  YxhdfdhRZjJHPFxaADnNVg   \n",
              "1  CYHevvs__TxU5a1bO6Tkvw  gggWd4tfuVdjSYxYFOectw  sr-5EY6bmp4jINhea06MjA   \n",
              "2  nNs7crTxUfQO1P4EoiMYrQ  b63eLCGDCpVPtswPtyq8bA  Uc6PdjT_MO5bRPQsUUEy5Q   \n",
              "3  DNmlFmzlf6EeoQAMZPh4fg  huqGHigM2ZQ7UHRFuGSkdQ  uKEabBQrn0gLzvTppOrKIA   \n",
              "4  tb3zhulP4YgSuKZm3Ez0NA  lW62LGwdg-oSLTaHQ-jviQ  ORL4JE6tz3rJxVqkdKfegA   \n",
              "\n",
              "   stars  useful  funny  cool  \\\n",
              "0    1.0       0      0     0   \n",
              "1    4.0       0      0     0   \n",
              "2    4.0       0      0     0   \n",
              "3    5.0       0      0     1   \n",
              "4    5.0       0      0     0   \n",
              "\n",
              "                                                text                 date  \n",
              "0  I purchased a car drove it home had a check en...  2021-12-06 21:48:01  \n",
              "1  Took my mom here for lunch on Friday and altho...  2018-06-15 02:27:50  \n",
              "2  Pretty good place it only gets 4 stars because...  2016-10-01 02:19:05  \n",
              "3  I usually go to small mom and pops for tacos b...  2018-10-26 22:07:31  \n",
              "4  The opryland hotel and resort is very nice rea...  2018-10-10 18:32:11  "
            ],
            "text/html": [
              "\n",
              "  <div id=\"df-67c2f669-728b-45b2-8bb5-02af70f3da60\" class=\"colab-df-container\">\n",
              "    <div>\n",
              "<style scoped>\n",
              "    .dataframe tbody tr th:only-of-type {\n",
              "        vertical-align: middle;\n",
              "    }\n",
              "\n",
              "    .dataframe tbody tr th {\n",
              "        vertical-align: top;\n",
              "    }\n",
              "\n",
              "    .dataframe thead th {\n",
              "        text-align: right;\n",
              "    }\n",
              "</style>\n",
              "<table border=\"1\" class=\"dataframe\">\n",
              "  <thead>\n",
              "    <tr style=\"text-align: right;\">\n",
              "      <th></th>\n",
              "      <th>review_id</th>\n",
              "      <th>user_id</th>\n",
              "      <th>business_id</th>\n",
              "      <th>stars</th>\n",
              "      <th>useful</th>\n",
              "      <th>funny</th>\n",
              "      <th>cool</th>\n",
              "      <th>text</th>\n",
              "      <th>date</th>\n",
              "    </tr>\n",
              "  </thead>\n",
              "  <tbody>\n",
              "    <tr>\n",
              "      <th>0</th>\n",
              "      <td>zHPV2wVdJRCXXUiOsYR1EQ</td>\n",
              "      <td>kBKBZ3TQctQSR7rvev_E4Q</td>\n",
              "      <td>YxhdfdhRZjJHPFxaADnNVg</td>\n",
              "      <td>1.0</td>\n",
              "      <td>0</td>\n",
              "      <td>0</td>\n",
              "      <td>0</td>\n",
              "      <td>I purchased a car drove it home had a check en...</td>\n",
              "      <td>2021-12-06 21:48:01</td>\n",
              "    </tr>\n",
              "    <tr>\n",
              "      <th>1</th>\n",
              "      <td>CYHevvs__TxU5a1bO6Tkvw</td>\n",
              "      <td>gggWd4tfuVdjSYxYFOectw</td>\n",
              "      <td>sr-5EY6bmp4jINhea06MjA</td>\n",
              "      <td>4.0</td>\n",
              "      <td>0</td>\n",
              "      <td>0</td>\n",
              "      <td>0</td>\n",
              "      <td>Took my mom here for lunch on Friday and altho...</td>\n",
              "      <td>2018-06-15 02:27:50</td>\n",
              "    </tr>\n",
              "    <tr>\n",
              "      <th>2</th>\n",
              "      <td>nNs7crTxUfQO1P4EoiMYrQ</td>\n",
              "      <td>b63eLCGDCpVPtswPtyq8bA</td>\n",
              "      <td>Uc6PdjT_MO5bRPQsUUEy5Q</td>\n",
              "      <td>4.0</td>\n",
              "      <td>0</td>\n",
              "      <td>0</td>\n",
              "      <td>0</td>\n",
              "      <td>Pretty good place it only gets 4 stars because...</td>\n",
              "      <td>2016-10-01 02:19:05</td>\n",
              "    </tr>\n",
              "    <tr>\n",
              "      <th>3</th>\n",
              "      <td>DNmlFmzlf6EeoQAMZPh4fg</td>\n",
              "      <td>huqGHigM2ZQ7UHRFuGSkdQ</td>\n",
              "      <td>uKEabBQrn0gLzvTppOrKIA</td>\n",
              "      <td>5.0</td>\n",
              "      <td>0</td>\n",
              "      <td>0</td>\n",
              "      <td>1</td>\n",
              "      <td>I usually go to small mom and pops for tacos b...</td>\n",
              "      <td>2018-10-26 22:07:31</td>\n",
              "    </tr>\n",
              "    <tr>\n",
              "      <th>4</th>\n",
              "      <td>tb3zhulP4YgSuKZm3Ez0NA</td>\n",
              "      <td>lW62LGwdg-oSLTaHQ-jviQ</td>\n",
              "      <td>ORL4JE6tz3rJxVqkdKfegA</td>\n",
              "      <td>5.0</td>\n",
              "      <td>0</td>\n",
              "      <td>0</td>\n",
              "      <td>0</td>\n",
              "      <td>The opryland hotel and resort is very nice rea...</td>\n",
              "      <td>2018-10-10 18:32:11</td>\n",
              "    </tr>\n",
              "  </tbody>\n",
              "</table>\n",
              "</div>\n",
              "    <div class=\"colab-df-buttons\">\n",
              "\n",
              "  <div class=\"colab-df-container\">\n",
              "    <button class=\"colab-df-convert\" onclick=\"convertToInteractive('df-67c2f669-728b-45b2-8bb5-02af70f3da60')\"\n",
              "            title=\"Convert this dataframe to an interactive table.\"\n",
              "            style=\"display:none;\">\n",
              "\n",
              "  <svg xmlns=\"http://www.w3.org/2000/svg\" height=\"24px\" viewBox=\"0 -960 960 960\">\n",
              "    <path d=\"M120-120v-720h720v720H120Zm60-500h600v-160H180v160Zm220 220h160v-160H400v160Zm0 220h160v-160H400v160ZM180-400h160v-160H180v160Zm440 0h160v-160H620v160ZM180-180h160v-160H180v160Zm440 0h160v-160H620v160Z\"/>\n",
              "  </svg>\n",
              "    </button>\n",
              "\n",
              "  <style>\n",
              "    .colab-df-container {\n",
              "      display:flex;\n",
              "      gap: 12px;\n",
              "    }\n",
              "\n",
              "    .colab-df-convert {\n",
              "      background-color: #E8F0FE;\n",
              "      border: none;\n",
              "      border-radius: 50%;\n",
              "      cursor: pointer;\n",
              "      display: none;\n",
              "      fill: #1967D2;\n",
              "      height: 32px;\n",
              "      padding: 0 0 0 0;\n",
              "      width: 32px;\n",
              "    }\n",
              "\n",
              "    .colab-df-convert:hover {\n",
              "      background-color: #E2EBFA;\n",
              "      box-shadow: 0px 1px 2px rgba(60, 64, 67, 0.3), 0px 1px 3px 1px rgba(60, 64, 67, 0.15);\n",
              "      fill: #174EA6;\n",
              "    }\n",
              "\n",
              "    .colab-df-buttons div {\n",
              "      margin-bottom: 4px;\n",
              "    }\n",
              "\n",
              "    [theme=dark] .colab-df-convert {\n",
              "      background-color: #3B4455;\n",
              "      fill: #D2E3FC;\n",
              "    }\n",
              "\n",
              "    [theme=dark] .colab-df-convert:hover {\n",
              "      background-color: #434B5C;\n",
              "      box-shadow: 0px 1px 3px 1px rgba(0, 0, 0, 0.15);\n",
              "      filter: drop-shadow(0px 1px 2px rgba(0, 0, 0, 0.3));\n",
              "      fill: #FFFFFF;\n",
              "    }\n",
              "  </style>\n",
              "\n",
              "    <script>\n",
              "      const buttonEl =\n",
              "        document.querySelector('#df-67c2f669-728b-45b2-8bb5-02af70f3da60 button.colab-df-convert');\n",
              "      buttonEl.style.display =\n",
              "        google.colab.kernel.accessAllowed ? 'block' : 'none';\n",
              "\n",
              "      async function convertToInteractive(key) {\n",
              "        const element = document.querySelector('#df-67c2f669-728b-45b2-8bb5-02af70f3da60');\n",
              "        const dataTable =\n",
              "          await google.colab.kernel.invokeFunction('convertToInteractive',\n",
              "                                                    [key], {});\n",
              "        if (!dataTable) return;\n",
              "\n",
              "        const docLinkHtml = 'Like what you see? Visit the ' +\n",
              "          '<a target=\"_blank\" href=https://colab.research.google.com/notebooks/data_table.ipynb>data table notebook</a>'\n",
              "          + ' to learn more about interactive tables.';\n",
              "        element.innerHTML = '';\n",
              "        dataTable['output_type'] = 'display_data';\n",
              "        await google.colab.output.renderOutput(dataTable, element);\n",
              "        const docLink = document.createElement('div');\n",
              "        docLink.innerHTML = docLinkHtml;\n",
              "        element.appendChild(docLink);\n",
              "      }\n",
              "    </script>\n",
              "  </div>\n",
              "\n",
              "\n",
              "<div id=\"df-2f6afad2-7606-42e6-aea3-ab558307efc8\">\n",
              "  <button class=\"colab-df-quickchart\" onclick=\"quickchart('df-2f6afad2-7606-42e6-aea3-ab558307efc8')\"\n",
              "            title=\"Suggest charts\"\n",
              "            style=\"display:none;\">\n",
              "\n",
              "<svg xmlns=\"http://www.w3.org/2000/svg\" height=\"24px\"viewBox=\"0 0 24 24\"\n",
              "     width=\"24px\">\n",
              "    <g>\n",
              "        <path d=\"M19 3H5c-1.1 0-2 .9-2 2v14c0 1.1.9 2 2 2h14c1.1 0 2-.9 2-2V5c0-1.1-.9-2-2-2zM9 17H7v-7h2v7zm4 0h-2V7h2v10zm4 0h-2v-4h2v4z\"/>\n",
              "    </g>\n",
              "</svg>\n",
              "  </button>\n",
              "\n",
              "<style>\n",
              "  .colab-df-quickchart {\n",
              "      --bg-color: #E8F0FE;\n",
              "      --fill-color: #1967D2;\n",
              "      --hover-bg-color: #E2EBFA;\n",
              "      --hover-fill-color: #174EA6;\n",
              "      --disabled-fill-color: #AAA;\n",
              "      --disabled-bg-color: #DDD;\n",
              "  }\n",
              "\n",
              "  [theme=dark] .colab-df-quickchart {\n",
              "      --bg-color: #3B4455;\n",
              "      --fill-color: #D2E3FC;\n",
              "      --hover-bg-color: #434B5C;\n",
              "      --hover-fill-color: #FFFFFF;\n",
              "      --disabled-bg-color: #3B4455;\n",
              "      --disabled-fill-color: #666;\n",
              "  }\n",
              "\n",
              "  .colab-df-quickchart {\n",
              "    background-color: var(--bg-color);\n",
              "    border: none;\n",
              "    border-radius: 50%;\n",
              "    cursor: pointer;\n",
              "    display: none;\n",
              "    fill: var(--fill-color);\n",
              "    height: 32px;\n",
              "    padding: 0;\n",
              "    width: 32px;\n",
              "  }\n",
              "\n",
              "  .colab-df-quickchart:hover {\n",
              "    background-color: var(--hover-bg-color);\n",
              "    box-shadow: 0 1px 2px rgba(60, 64, 67, 0.3), 0 1px 3px 1px rgba(60, 64, 67, 0.15);\n",
              "    fill: var(--button-hover-fill-color);\n",
              "  }\n",
              "\n",
              "  .colab-df-quickchart-complete:disabled,\n",
              "  .colab-df-quickchart-complete:disabled:hover {\n",
              "    background-color: var(--disabled-bg-color);\n",
              "    fill: var(--disabled-fill-color);\n",
              "    box-shadow: none;\n",
              "  }\n",
              "\n",
              "  .colab-df-spinner {\n",
              "    border: 2px solid var(--fill-color);\n",
              "    border-color: transparent;\n",
              "    border-bottom-color: var(--fill-color);\n",
              "    animation:\n",
              "      spin 1s steps(1) infinite;\n",
              "  }\n",
              "\n",
              "  @keyframes spin {\n",
              "    0% {\n",
              "      border-color: transparent;\n",
              "      border-bottom-color: var(--fill-color);\n",
              "      border-left-color: var(--fill-color);\n",
              "    }\n",
              "    20% {\n",
              "      border-color: transparent;\n",
              "      border-left-color: var(--fill-color);\n",
              "      border-top-color: var(--fill-color);\n",
              "    }\n",
              "    30% {\n",
              "      border-color: transparent;\n",
              "      border-left-color: var(--fill-color);\n",
              "      border-top-color: var(--fill-color);\n",
              "      border-right-color: var(--fill-color);\n",
              "    }\n",
              "    40% {\n",
              "      border-color: transparent;\n",
              "      border-right-color: var(--fill-color);\n",
              "      border-top-color: var(--fill-color);\n",
              "    }\n",
              "    60% {\n",
              "      border-color: transparent;\n",
              "      border-right-color: var(--fill-color);\n",
              "    }\n",
              "    80% {\n",
              "      border-color: transparent;\n",
              "      border-right-color: var(--fill-color);\n",
              "      border-bottom-color: var(--fill-color);\n",
              "    }\n",
              "    90% {\n",
              "      border-color: transparent;\n",
              "      border-bottom-color: var(--fill-color);\n",
              "    }\n",
              "  }\n",
              "</style>\n",
              "\n",
              "  <script>\n",
              "    async function quickchart(key) {\n",
              "      const quickchartButtonEl =\n",
              "        document.querySelector('#' + key + ' button');\n",
              "      quickchartButtonEl.disabled = true;  // To prevent multiple clicks.\n",
              "      quickchartButtonEl.classList.add('colab-df-spinner');\n",
              "      try {\n",
              "        const charts = await google.colab.kernel.invokeFunction(\n",
              "            'suggestCharts', [key], {});\n",
              "      } catch (error) {\n",
              "        console.error('Error during call to suggestCharts:', error);\n",
              "      }\n",
              "      quickchartButtonEl.classList.remove('colab-df-spinner');\n",
              "      quickchartButtonEl.classList.add('colab-df-quickchart-complete');\n",
              "    }\n",
              "    (() => {\n",
              "      let quickchartButtonEl =\n",
              "        document.querySelector('#df-2f6afad2-7606-42e6-aea3-ab558307efc8 button');\n",
              "      quickchartButtonEl.style.display =\n",
              "        google.colab.kernel.accessAllowed ? 'block' : 'none';\n",
              "    })();\n",
              "  </script>\n",
              "</div>\n",
              "    </div>\n",
              "  </div>\n"
            ]
          },
          "metadata": {},
          "execution_count": 6
        }
      ],
      "source": [
        "review_df.head()"
      ]
    },
    {
      "cell_type": "code",
      "execution_count": null,
      "metadata": {
        "id": "_77ypCKESVjF",
        "colab": {
          "base_uri": "https://localhost:8080/",
          "height": 206
        },
        "outputId": "a9ce3bb7-88fb-46c3-bd4f-67c21e1335e4"
      },
      "outputs": [
        {
          "output_type": "execute_result",
          "data": {
            "text/plain": [
              "                review_id                                               text\n",
              "0  zHPV2wVdJRCXXUiOsYR1EQ  I purchased a car drove it home had a check en...\n",
              "1  CYHevvs__TxU5a1bO6Tkvw  Took my mom here for lunch on Friday and altho...\n",
              "2  nNs7crTxUfQO1P4EoiMYrQ  Pretty good place it only gets 4 stars because...\n",
              "3  DNmlFmzlf6EeoQAMZPh4fg  I usually go to small mom and pops for tacos b...\n",
              "4  tb3zhulP4YgSuKZm3Ez0NA  The opryland hotel and resort is very nice rea..."
            ],
            "text/html": [
              "\n",
              "  <div id=\"df-7588d52f-71fc-4137-b4cb-00b48ce32803\" class=\"colab-df-container\">\n",
              "    <div>\n",
              "<style scoped>\n",
              "    .dataframe tbody tr th:only-of-type {\n",
              "        vertical-align: middle;\n",
              "    }\n",
              "\n",
              "    .dataframe tbody tr th {\n",
              "        vertical-align: top;\n",
              "    }\n",
              "\n",
              "    .dataframe thead th {\n",
              "        text-align: right;\n",
              "    }\n",
              "</style>\n",
              "<table border=\"1\" class=\"dataframe\">\n",
              "  <thead>\n",
              "    <tr style=\"text-align: right;\">\n",
              "      <th></th>\n",
              "      <th>review_id</th>\n",
              "      <th>text</th>\n",
              "    </tr>\n",
              "  </thead>\n",
              "  <tbody>\n",
              "    <tr>\n",
              "      <th>0</th>\n",
              "      <td>zHPV2wVdJRCXXUiOsYR1EQ</td>\n",
              "      <td>I purchased a car drove it home had a check en...</td>\n",
              "    </tr>\n",
              "    <tr>\n",
              "      <th>1</th>\n",
              "      <td>CYHevvs__TxU5a1bO6Tkvw</td>\n",
              "      <td>Took my mom here for lunch on Friday and altho...</td>\n",
              "    </tr>\n",
              "    <tr>\n",
              "      <th>2</th>\n",
              "      <td>nNs7crTxUfQO1P4EoiMYrQ</td>\n",
              "      <td>Pretty good place it only gets 4 stars because...</td>\n",
              "    </tr>\n",
              "    <tr>\n",
              "      <th>3</th>\n",
              "      <td>DNmlFmzlf6EeoQAMZPh4fg</td>\n",
              "      <td>I usually go to small mom and pops for tacos b...</td>\n",
              "    </tr>\n",
              "    <tr>\n",
              "      <th>4</th>\n",
              "      <td>tb3zhulP4YgSuKZm3Ez0NA</td>\n",
              "      <td>The opryland hotel and resort is very nice rea...</td>\n",
              "    </tr>\n",
              "  </tbody>\n",
              "</table>\n",
              "</div>\n",
              "    <div class=\"colab-df-buttons\">\n",
              "\n",
              "  <div class=\"colab-df-container\">\n",
              "    <button class=\"colab-df-convert\" onclick=\"convertToInteractive('df-7588d52f-71fc-4137-b4cb-00b48ce32803')\"\n",
              "            title=\"Convert this dataframe to an interactive table.\"\n",
              "            style=\"display:none;\">\n",
              "\n",
              "  <svg xmlns=\"http://www.w3.org/2000/svg\" height=\"24px\" viewBox=\"0 -960 960 960\">\n",
              "    <path d=\"M120-120v-720h720v720H120Zm60-500h600v-160H180v160Zm220 220h160v-160H400v160Zm0 220h160v-160H400v160ZM180-400h160v-160H180v160Zm440 0h160v-160H620v160ZM180-180h160v-160H180v160Zm440 0h160v-160H620v160Z\"/>\n",
              "  </svg>\n",
              "    </button>\n",
              "\n",
              "  <style>\n",
              "    .colab-df-container {\n",
              "      display:flex;\n",
              "      gap: 12px;\n",
              "    }\n",
              "\n",
              "    .colab-df-convert {\n",
              "      background-color: #E8F0FE;\n",
              "      border: none;\n",
              "      border-radius: 50%;\n",
              "      cursor: pointer;\n",
              "      display: none;\n",
              "      fill: #1967D2;\n",
              "      height: 32px;\n",
              "      padding: 0 0 0 0;\n",
              "      width: 32px;\n",
              "    }\n",
              "\n",
              "    .colab-df-convert:hover {\n",
              "      background-color: #E2EBFA;\n",
              "      box-shadow: 0px 1px 2px rgba(60, 64, 67, 0.3), 0px 1px 3px 1px rgba(60, 64, 67, 0.15);\n",
              "      fill: #174EA6;\n",
              "    }\n",
              "\n",
              "    .colab-df-buttons div {\n",
              "      margin-bottom: 4px;\n",
              "    }\n",
              "\n",
              "    [theme=dark] .colab-df-convert {\n",
              "      background-color: #3B4455;\n",
              "      fill: #D2E3FC;\n",
              "    }\n",
              "\n",
              "    [theme=dark] .colab-df-convert:hover {\n",
              "      background-color: #434B5C;\n",
              "      box-shadow: 0px 1px 3px 1px rgba(0, 0, 0, 0.15);\n",
              "      filter: drop-shadow(0px 1px 2px rgba(0, 0, 0, 0.3));\n",
              "      fill: #FFFFFF;\n",
              "    }\n",
              "  </style>\n",
              "\n",
              "    <script>\n",
              "      const buttonEl =\n",
              "        document.querySelector('#df-7588d52f-71fc-4137-b4cb-00b48ce32803 button.colab-df-convert');\n",
              "      buttonEl.style.display =\n",
              "        google.colab.kernel.accessAllowed ? 'block' : 'none';\n",
              "\n",
              "      async function convertToInteractive(key) {\n",
              "        const element = document.querySelector('#df-7588d52f-71fc-4137-b4cb-00b48ce32803');\n",
              "        const dataTable =\n",
              "          await google.colab.kernel.invokeFunction('convertToInteractive',\n",
              "                                                    [key], {});\n",
              "        if (!dataTable) return;\n",
              "\n",
              "        const docLinkHtml = 'Like what you see? Visit the ' +\n",
              "          '<a target=\"_blank\" href=https://colab.research.google.com/notebooks/data_table.ipynb>data table notebook</a>'\n",
              "          + ' to learn more about interactive tables.';\n",
              "        element.innerHTML = '';\n",
              "        dataTable['output_type'] = 'display_data';\n",
              "        await google.colab.output.renderOutput(dataTable, element);\n",
              "        const docLink = document.createElement('div');\n",
              "        docLink.innerHTML = docLinkHtml;\n",
              "        element.appendChild(docLink);\n",
              "      }\n",
              "    </script>\n",
              "  </div>\n",
              "\n",
              "\n",
              "<div id=\"df-a5630a9c-77ee-446f-a438-f01630dcad3e\">\n",
              "  <button class=\"colab-df-quickchart\" onclick=\"quickchart('df-a5630a9c-77ee-446f-a438-f01630dcad3e')\"\n",
              "            title=\"Suggest charts\"\n",
              "            style=\"display:none;\">\n",
              "\n",
              "<svg xmlns=\"http://www.w3.org/2000/svg\" height=\"24px\"viewBox=\"0 0 24 24\"\n",
              "     width=\"24px\">\n",
              "    <g>\n",
              "        <path d=\"M19 3H5c-1.1 0-2 .9-2 2v14c0 1.1.9 2 2 2h14c1.1 0 2-.9 2-2V5c0-1.1-.9-2-2-2zM9 17H7v-7h2v7zm4 0h-2V7h2v10zm4 0h-2v-4h2v4z\"/>\n",
              "    </g>\n",
              "</svg>\n",
              "  </button>\n",
              "\n",
              "<style>\n",
              "  .colab-df-quickchart {\n",
              "      --bg-color: #E8F0FE;\n",
              "      --fill-color: #1967D2;\n",
              "      --hover-bg-color: #E2EBFA;\n",
              "      --hover-fill-color: #174EA6;\n",
              "      --disabled-fill-color: #AAA;\n",
              "      --disabled-bg-color: #DDD;\n",
              "  }\n",
              "\n",
              "  [theme=dark] .colab-df-quickchart {\n",
              "      --bg-color: #3B4455;\n",
              "      --fill-color: #D2E3FC;\n",
              "      --hover-bg-color: #434B5C;\n",
              "      --hover-fill-color: #FFFFFF;\n",
              "      --disabled-bg-color: #3B4455;\n",
              "      --disabled-fill-color: #666;\n",
              "  }\n",
              "\n",
              "  .colab-df-quickchart {\n",
              "    background-color: var(--bg-color);\n",
              "    border: none;\n",
              "    border-radius: 50%;\n",
              "    cursor: pointer;\n",
              "    display: none;\n",
              "    fill: var(--fill-color);\n",
              "    height: 32px;\n",
              "    padding: 0;\n",
              "    width: 32px;\n",
              "  }\n",
              "\n",
              "  .colab-df-quickchart:hover {\n",
              "    background-color: var(--hover-bg-color);\n",
              "    box-shadow: 0 1px 2px rgba(60, 64, 67, 0.3), 0 1px 3px 1px rgba(60, 64, 67, 0.15);\n",
              "    fill: var(--button-hover-fill-color);\n",
              "  }\n",
              "\n",
              "  .colab-df-quickchart-complete:disabled,\n",
              "  .colab-df-quickchart-complete:disabled:hover {\n",
              "    background-color: var(--disabled-bg-color);\n",
              "    fill: var(--disabled-fill-color);\n",
              "    box-shadow: none;\n",
              "  }\n",
              "\n",
              "  .colab-df-spinner {\n",
              "    border: 2px solid var(--fill-color);\n",
              "    border-color: transparent;\n",
              "    border-bottom-color: var(--fill-color);\n",
              "    animation:\n",
              "      spin 1s steps(1) infinite;\n",
              "  }\n",
              "\n",
              "  @keyframes spin {\n",
              "    0% {\n",
              "      border-color: transparent;\n",
              "      border-bottom-color: var(--fill-color);\n",
              "      border-left-color: var(--fill-color);\n",
              "    }\n",
              "    20% {\n",
              "      border-color: transparent;\n",
              "      border-left-color: var(--fill-color);\n",
              "      border-top-color: var(--fill-color);\n",
              "    }\n",
              "    30% {\n",
              "      border-color: transparent;\n",
              "      border-left-color: var(--fill-color);\n",
              "      border-top-color: var(--fill-color);\n",
              "      border-right-color: var(--fill-color);\n",
              "    }\n",
              "    40% {\n",
              "      border-color: transparent;\n",
              "      border-right-color: var(--fill-color);\n",
              "      border-top-color: var(--fill-color);\n",
              "    }\n",
              "    60% {\n",
              "      border-color: transparent;\n",
              "      border-right-color: var(--fill-color);\n",
              "    }\n",
              "    80% {\n",
              "      border-color: transparent;\n",
              "      border-right-color: var(--fill-color);\n",
              "      border-bottom-color: var(--fill-color);\n",
              "    }\n",
              "    90% {\n",
              "      border-color: transparent;\n",
              "      border-bottom-color: var(--fill-color);\n",
              "    }\n",
              "  }\n",
              "</style>\n",
              "\n",
              "  <script>\n",
              "    async function quickchart(key) {\n",
              "      const quickchartButtonEl =\n",
              "        document.querySelector('#' + key + ' button');\n",
              "      quickchartButtonEl.disabled = true;  // To prevent multiple clicks.\n",
              "      quickchartButtonEl.classList.add('colab-df-spinner');\n",
              "      try {\n",
              "        const charts = await google.colab.kernel.invokeFunction(\n",
              "            'suggestCharts', [key], {});\n",
              "      } catch (error) {\n",
              "        console.error('Error during call to suggestCharts:', error);\n",
              "      }\n",
              "      quickchartButtonEl.classList.remove('colab-df-spinner');\n",
              "      quickchartButtonEl.classList.add('colab-df-quickchart-complete');\n",
              "    }\n",
              "    (() => {\n",
              "      let quickchartButtonEl =\n",
              "        document.querySelector('#df-a5630a9c-77ee-446f-a438-f01630dcad3e button');\n",
              "      quickchartButtonEl.style.display =\n",
              "        google.colab.kernel.accessAllowed ? 'block' : 'none';\n",
              "    })();\n",
              "  </script>\n",
              "</div>\n",
              "    </div>\n",
              "  </div>\n"
            ]
          },
          "metadata": {},
          "execution_count": 7
        }
      ],
      "source": [
        "review_df[['review_id', 'text']].head()"
      ]
    },
    {
      "cell_type": "code",
      "execution_count": null,
      "metadata": {
        "id": "UPsconh-SVjG",
        "colab": {
          "base_uri": "https://localhost:8080/",
          "height": 206
        },
        "outputId": "1e4dabcf-9ebd-4c63-d759-66c961770313"
      },
      "outputs": [
        {
          "output_type": "execute_result",
          "data": {
            "text/plain": [
              "                review_id                                               text\n",
              "0  zHPV2wVdJRCXXUiOsYR1EQ  I purchased a car drove it home had a check en...\n",
              "1  CYHevvs__TxU5a1bO6Tkvw  Took my mom here for lunch on Friday and altho...\n",
              "2  nNs7crTxUfQO1P4EoiMYrQ  Pretty good place it only gets 4 stars because...\n",
              "3  DNmlFmzlf6EeoQAMZPh4fg  I usually go to small mom and pops for tacos b...\n",
              "4  tb3zhulP4YgSuKZm3Ez0NA  The opryland hotel and resort is very nice rea..."
            ],
            "text/html": [
              "\n",
              "  <div id=\"df-686c0f34-dbba-4b0b-910d-c452326ad40d\" class=\"colab-df-container\">\n",
              "    <div>\n",
              "<style scoped>\n",
              "    .dataframe tbody tr th:only-of-type {\n",
              "        vertical-align: middle;\n",
              "    }\n",
              "\n",
              "    .dataframe tbody tr th {\n",
              "        vertical-align: top;\n",
              "    }\n",
              "\n",
              "    .dataframe thead th {\n",
              "        text-align: right;\n",
              "    }\n",
              "</style>\n",
              "<table border=\"1\" class=\"dataframe\">\n",
              "  <thead>\n",
              "    <tr style=\"text-align: right;\">\n",
              "      <th></th>\n",
              "      <th>review_id</th>\n",
              "      <th>text</th>\n",
              "    </tr>\n",
              "  </thead>\n",
              "  <tbody>\n",
              "    <tr>\n",
              "      <th>0</th>\n",
              "      <td>zHPV2wVdJRCXXUiOsYR1EQ</td>\n",
              "      <td>I purchased a car drove it home had a check en...</td>\n",
              "    </tr>\n",
              "    <tr>\n",
              "      <th>1</th>\n",
              "      <td>CYHevvs__TxU5a1bO6Tkvw</td>\n",
              "      <td>Took my mom here for lunch on Friday and altho...</td>\n",
              "    </tr>\n",
              "    <tr>\n",
              "      <th>2</th>\n",
              "      <td>nNs7crTxUfQO1P4EoiMYrQ</td>\n",
              "      <td>Pretty good place it only gets 4 stars because...</td>\n",
              "    </tr>\n",
              "    <tr>\n",
              "      <th>3</th>\n",
              "      <td>DNmlFmzlf6EeoQAMZPh4fg</td>\n",
              "      <td>I usually go to small mom and pops for tacos b...</td>\n",
              "    </tr>\n",
              "    <tr>\n",
              "      <th>4</th>\n",
              "      <td>tb3zhulP4YgSuKZm3Ez0NA</td>\n",
              "      <td>The opryland hotel and resort is very nice rea...</td>\n",
              "    </tr>\n",
              "  </tbody>\n",
              "</table>\n",
              "</div>\n",
              "    <div class=\"colab-df-buttons\">\n",
              "\n",
              "  <div class=\"colab-df-container\">\n",
              "    <button class=\"colab-df-convert\" onclick=\"convertToInteractive('df-686c0f34-dbba-4b0b-910d-c452326ad40d')\"\n",
              "            title=\"Convert this dataframe to an interactive table.\"\n",
              "            style=\"display:none;\">\n",
              "\n",
              "  <svg xmlns=\"http://www.w3.org/2000/svg\" height=\"24px\" viewBox=\"0 -960 960 960\">\n",
              "    <path d=\"M120-120v-720h720v720H120Zm60-500h600v-160H180v160Zm220 220h160v-160H400v160Zm0 220h160v-160H400v160ZM180-400h160v-160H180v160Zm440 0h160v-160H620v160ZM180-180h160v-160H180v160Zm440 0h160v-160H620v160Z\"/>\n",
              "  </svg>\n",
              "    </button>\n",
              "\n",
              "  <style>\n",
              "    .colab-df-container {\n",
              "      display:flex;\n",
              "      gap: 12px;\n",
              "    }\n",
              "\n",
              "    .colab-df-convert {\n",
              "      background-color: #E8F0FE;\n",
              "      border: none;\n",
              "      border-radius: 50%;\n",
              "      cursor: pointer;\n",
              "      display: none;\n",
              "      fill: #1967D2;\n",
              "      height: 32px;\n",
              "      padding: 0 0 0 0;\n",
              "      width: 32px;\n",
              "    }\n",
              "\n",
              "    .colab-df-convert:hover {\n",
              "      background-color: #E2EBFA;\n",
              "      box-shadow: 0px 1px 2px rgba(60, 64, 67, 0.3), 0px 1px 3px 1px rgba(60, 64, 67, 0.15);\n",
              "      fill: #174EA6;\n",
              "    }\n",
              "\n",
              "    .colab-df-buttons div {\n",
              "      margin-bottom: 4px;\n",
              "    }\n",
              "\n",
              "    [theme=dark] .colab-df-convert {\n",
              "      background-color: #3B4455;\n",
              "      fill: #D2E3FC;\n",
              "    }\n",
              "\n",
              "    [theme=dark] .colab-df-convert:hover {\n",
              "      background-color: #434B5C;\n",
              "      box-shadow: 0px 1px 3px 1px rgba(0, 0, 0, 0.15);\n",
              "      filter: drop-shadow(0px 1px 2px rgba(0, 0, 0, 0.3));\n",
              "      fill: #FFFFFF;\n",
              "    }\n",
              "  </style>\n",
              "\n",
              "    <script>\n",
              "      const buttonEl =\n",
              "        document.querySelector('#df-686c0f34-dbba-4b0b-910d-c452326ad40d button.colab-df-convert');\n",
              "      buttonEl.style.display =\n",
              "        google.colab.kernel.accessAllowed ? 'block' : 'none';\n",
              "\n",
              "      async function convertToInteractive(key) {\n",
              "        const element = document.querySelector('#df-686c0f34-dbba-4b0b-910d-c452326ad40d');\n",
              "        const dataTable =\n",
              "          await google.colab.kernel.invokeFunction('convertToInteractive',\n",
              "                                                    [key], {});\n",
              "        if (!dataTable) return;\n",
              "\n",
              "        const docLinkHtml = 'Like what you see? Visit the ' +\n",
              "          '<a target=\"_blank\" href=https://colab.research.google.com/notebooks/data_table.ipynb>data table notebook</a>'\n",
              "          + ' to learn more about interactive tables.';\n",
              "        element.innerHTML = '';\n",
              "        dataTable['output_type'] = 'display_data';\n",
              "        await google.colab.output.renderOutput(dataTable, element);\n",
              "        const docLink = document.createElement('div');\n",
              "        docLink.innerHTML = docLinkHtml;\n",
              "        element.appendChild(docLink);\n",
              "      }\n",
              "    </script>\n",
              "  </div>\n",
              "\n",
              "\n",
              "<div id=\"df-c994d0d3-4203-4aec-97d3-c5610526eea0\">\n",
              "  <button class=\"colab-df-quickchart\" onclick=\"quickchart('df-c994d0d3-4203-4aec-97d3-c5610526eea0')\"\n",
              "            title=\"Suggest charts\"\n",
              "            style=\"display:none;\">\n",
              "\n",
              "<svg xmlns=\"http://www.w3.org/2000/svg\" height=\"24px\"viewBox=\"0 0 24 24\"\n",
              "     width=\"24px\">\n",
              "    <g>\n",
              "        <path d=\"M19 3H5c-1.1 0-2 .9-2 2v14c0 1.1.9 2 2 2h14c1.1 0 2-.9 2-2V5c0-1.1-.9-2-2-2zM9 17H7v-7h2v7zm4 0h-2V7h2v10zm4 0h-2v-4h2v4z\"/>\n",
              "    </g>\n",
              "</svg>\n",
              "  </button>\n",
              "\n",
              "<style>\n",
              "  .colab-df-quickchart {\n",
              "      --bg-color: #E8F0FE;\n",
              "      --fill-color: #1967D2;\n",
              "      --hover-bg-color: #E2EBFA;\n",
              "      --hover-fill-color: #174EA6;\n",
              "      --disabled-fill-color: #AAA;\n",
              "      --disabled-bg-color: #DDD;\n",
              "  }\n",
              "\n",
              "  [theme=dark] .colab-df-quickchart {\n",
              "      --bg-color: #3B4455;\n",
              "      --fill-color: #D2E3FC;\n",
              "      --hover-bg-color: #434B5C;\n",
              "      --hover-fill-color: #FFFFFF;\n",
              "      --disabled-bg-color: #3B4455;\n",
              "      --disabled-fill-color: #666;\n",
              "  }\n",
              "\n",
              "  .colab-df-quickchart {\n",
              "    background-color: var(--bg-color);\n",
              "    border: none;\n",
              "    border-radius: 50%;\n",
              "    cursor: pointer;\n",
              "    display: none;\n",
              "    fill: var(--fill-color);\n",
              "    height: 32px;\n",
              "    padding: 0;\n",
              "    width: 32px;\n",
              "  }\n",
              "\n",
              "  .colab-df-quickchart:hover {\n",
              "    background-color: var(--hover-bg-color);\n",
              "    box-shadow: 0 1px 2px rgba(60, 64, 67, 0.3), 0 1px 3px 1px rgba(60, 64, 67, 0.15);\n",
              "    fill: var(--button-hover-fill-color);\n",
              "  }\n",
              "\n",
              "  .colab-df-quickchart-complete:disabled,\n",
              "  .colab-df-quickchart-complete:disabled:hover {\n",
              "    background-color: var(--disabled-bg-color);\n",
              "    fill: var(--disabled-fill-color);\n",
              "    box-shadow: none;\n",
              "  }\n",
              "\n",
              "  .colab-df-spinner {\n",
              "    border: 2px solid var(--fill-color);\n",
              "    border-color: transparent;\n",
              "    border-bottom-color: var(--fill-color);\n",
              "    animation:\n",
              "      spin 1s steps(1) infinite;\n",
              "  }\n",
              "\n",
              "  @keyframes spin {\n",
              "    0% {\n",
              "      border-color: transparent;\n",
              "      border-bottom-color: var(--fill-color);\n",
              "      border-left-color: var(--fill-color);\n",
              "    }\n",
              "    20% {\n",
              "      border-color: transparent;\n",
              "      border-left-color: var(--fill-color);\n",
              "      border-top-color: var(--fill-color);\n",
              "    }\n",
              "    30% {\n",
              "      border-color: transparent;\n",
              "      border-left-color: var(--fill-color);\n",
              "      border-top-color: var(--fill-color);\n",
              "      border-right-color: var(--fill-color);\n",
              "    }\n",
              "    40% {\n",
              "      border-color: transparent;\n",
              "      border-right-color: var(--fill-color);\n",
              "      border-top-color: var(--fill-color);\n",
              "    }\n",
              "    60% {\n",
              "      border-color: transparent;\n",
              "      border-right-color: var(--fill-color);\n",
              "    }\n",
              "    80% {\n",
              "      border-color: transparent;\n",
              "      border-right-color: var(--fill-color);\n",
              "      border-bottom-color: var(--fill-color);\n",
              "    }\n",
              "    90% {\n",
              "      border-color: transparent;\n",
              "      border-bottom-color: var(--fill-color);\n",
              "    }\n",
              "  }\n",
              "</style>\n",
              "\n",
              "  <script>\n",
              "    async function quickchart(key) {\n",
              "      const quickchartButtonEl =\n",
              "        document.querySelector('#' + key + ' button');\n",
              "      quickchartButtonEl.disabled = true;  // To prevent multiple clicks.\n",
              "      quickchartButtonEl.classList.add('colab-df-spinner');\n",
              "      try {\n",
              "        const charts = await google.colab.kernel.invokeFunction(\n",
              "            'suggestCharts', [key], {});\n",
              "      } catch (error) {\n",
              "        console.error('Error during call to suggestCharts:', error);\n",
              "      }\n",
              "      quickchartButtonEl.classList.remove('colab-df-spinner');\n",
              "      quickchartButtonEl.classList.add('colab-df-quickchart-complete');\n",
              "    }\n",
              "    (() => {\n",
              "      let quickchartButtonEl =\n",
              "        document.querySelector('#df-c994d0d3-4203-4aec-97d3-c5610526eea0 button');\n",
              "      quickchartButtonEl.style.display =\n",
              "        google.colab.kernel.accessAllowed ? 'block' : 'none';\n",
              "    })();\n",
              "  </script>\n",
              "</div>\n",
              "    </div>\n",
              "  </div>\n"
            ]
          },
          "metadata": {},
          "execution_count": 8
        }
      ],
      "source": [
        "\n",
        "id_txt = review_df[['review_id', 'text']]\n",
        "id_txt.head()\n"
      ]
    },
    {
      "cell_type": "code",
      "execution_count": null,
      "metadata": {
        "id": "yhjT0YNMSVjG"
      },
      "outputs": [],
      "source": [
        "id_txt_rows = id_txt.values.tolist()"
      ]
    },
    {
      "cell_type": "code",
      "execution_count": null,
      "metadata": {
        "id": "TpYTF2q4SVjG"
      },
      "outputs": [],
      "source": [
        "!apt-get install openjdk-8-jdk-headless -qq > /dev/null"
      ]
    },
    {
      "cell_type": "code",
      "execution_count": null,
      "metadata": {
        "id": "rhxgU_K7SVjH"
      },
      "outputs": [],
      "source": [
        "\n",
        "spark_version = '3.5.0'\n",
        "\n",
        "!wget -q https://downloads.apache.org/spark/spark-{spark_version}/spark-{spark_version}-bin-hadoop3.tgz\n",
        "!tar -xf spark-{spark_version}-bin-hadoop3.tgz\n"
      ]
    },
    {
      "cell_type": "code",
      "execution_count": null,
      "metadata": {
        "id": "f2tF8xQaSVjH"
      },
      "outputs": [],
      "source": [
        "!pip install -q findspark"
      ]
    },
    {
      "cell_type": "code",
      "execution_count": null,
      "metadata": {
        "id": "HQ4IJUrXSVjI"
      },
      "outputs": [],
      "source": [
        "\n",
        "import os\n",
        "\n",
        "os.environ[ 'JAVA_HOME' ] = '/usr/lib/jvm/java-8-openjdk-amd64'\n",
        "os.environ[ 'SPARK_HOME' ] = f'/content/spark-{spark_version}-bin-hadoop3'\n"
      ]
    },
    {
      "cell_type": "code",
      "execution_count": null,
      "metadata": {
        "id": "i0_emaoJSVjI"
      },
      "outputs": [],
      "source": [
        "\n",
        "import findspark\n",
        "\n",
        "findspark.init( os.environ[ 'SPARK_HOME' ] )\n"
      ]
    },
    {
      "cell_type": "code",
      "execution_count": null,
      "metadata": {
        "id": "AyzIFjL4SVjI"
      },
      "outputs": [],
      "source": [
        "\n",
        "from pyspark.sql import SparkSession\n",
        "\n",
        "spark = SparkSession.builder.master( 'local[*]' ).getOrCreate()\n"
      ]
    },
    {
      "cell_type": "code",
      "execution_count": null,
      "metadata": {
        "id": "sFG29-oASVjL"
      },
      "outputs": [],
      "source": [
        "sc = spark.sparkContext"
      ]
    },
    {
      "cell_type": "code",
      "execution_count": null,
      "metadata": {
        "id": "dFMzdZD5SVjM"
      },
      "outputs": [],
      "source": [
        "id_txt_rdd = sc.parallelize( id_txt_rows )"
      ]
    },
    {
      "cell_type": "code",
      "execution_count": null,
      "metadata": {
        "id": "mzcbe0L7SVjM"
      },
      "outputs": [],
      "source": [
        "\n",
        "id_txt_lower = id_txt_rdd.map(\n",
        "    lambda id_txt: ( id_txt[ 0 ], id_txt[ 1 ].lower() )\n",
        ")\n"
      ]
    },
    {
      "cell_type": "code",
      "execution_count": null,
      "metadata": {
        "id": "QIdLHy80SVjN"
      },
      "outputs": [],
      "source": [
        "\n",
        "id_words_rdd = id_txt_lower.map(\n",
        "    lambda id_txt: ( id_txt[ 0 ], id_txt[ 1 ].split() )\n",
        ")\n",
        "\n",
        "force_exec = id_words_rdd.take( 1 )\n"
      ]
    },
    {
      "cell_type": "code",
      "execution_count": null,
      "metadata": {
        "id": "JEq3W-nbSVjN"
      },
      "outputs": [],
      "source": [
        "\n",
        "import nltk\n",
        "\n",
        "\n",
        "def remove_stopwords( word_list: list[ str ] ) -> list[ str ]:\n",
        "  from nltk.corpus import stopwords  # imported here to avoid errors later\n",
        "  nltk.download( 'stopwords' )\n",
        "\n",
        "  no_stopwords = []\n",
        "\n",
        "  for word in word_list:\n",
        "    if word not in stopwords.words( 'english' ):\n",
        "      no_stopwords.append( word )\n",
        "\n",
        "  return no_stopwords\n",
        "\n",
        "\n",
        "no_stopwords_rdd = id_words_rdd.map(\n",
        "    lambda id_words: ( id_words[ 0 ], remove_stopwords( id_words[ 1 ] ) )\n",
        ")\n"
      ]
    },
    {
      "cell_type": "code",
      "execution_count": null,
      "metadata": {
        "id": "SqMeHvriSVjN"
      },
      "outputs": [],
      "source": [
        "\n",
        "import string\n",
        "\n",
        "\n",
        "def remove_punctuation( word_list: list[ str ] ) -> list[ str ]:\n",
        "  no_punctuation = []\n",
        "\n",
        "  for word in word_list:\n",
        "    no_punctuation.append( word.translate(\n",
        "        str.maketrans( '', '', string.punctuation ) )\n",
        "    )\n",
        "\n",
        "  return no_punctuation\n"
      ]
    },
    {
      "cell_type": "code",
      "execution_count": null,
      "metadata": {
        "id": "LUyi4ROCSVjN"
      },
      "outputs": [],
      "source": [
        "\n",
        "no_punctuation = no_stopwords_rdd.map(\n",
        "    lambda id_words: ( id_words[ 0 ], remove_punctuation( id_words[ 1 ] ) )\n",
        ")\n",
        "\n",
        "force_exec = no_punctuation.take( 1 )\n"
      ]
    },
    {
      "cell_type": "code",
      "execution_count": null,
      "metadata": {
        "id": "T-sM2q19SVjO"
      },
      "outputs": [],
      "source": [
        "\n",
        "no_stopwords = no_punctuation.map(\n",
        "    lambda id_words: ( id_words[ 0 ], remove_stopwords( id_words[ 1 ] ) )\n",
        ")\n"
      ]
    },
    {
      "cell_type": "code",
      "execution_count": null,
      "metadata": {
        "id": "CRJmgVjwSVjO"
      },
      "outputs": [],
      "source": [
        "\n",
        "import re\n",
        "\n",
        "def is_numeric( word: str ) -> bool:\n",
        "  numeric_pattern = re.compile( r'^[0-9]+$' )\n",
        "  return bool( numeric_pattern.match( word ) )\n",
        "\n",
        "\n",
        "no_numbers_rdd = no_stopwords.map(\n",
        "    lambda id_words: (\n",
        "        id_words[ 0 ],\n",
        "        [ word for word in id_words[ 1 ] if not is_numeric( word ) ]\n",
        "    )\n",
        ")\n",
        "\n",
        "force_exec = no_numbers_rdd.take( 1 )\n"
      ]
    },
    {
      "cell_type": "code",
      "execution_count": null,
      "metadata": {
        "id": "ZU_tyVSESVjO",
        "colab": {
          "base_uri": "https://localhost:8080/"
        },
        "outputId": "a6ce4d42-7ebd-4644-946f-df16f8893393"
      },
      "outputs": [
        {
          "output_type": "stream",
          "name": "stderr",
          "text": [
            "[nltk_data] Downloading package punkt to /root/nltk_data...\n",
            "[nltk_data]   Unzipping tokenizers/punkt.zip.\n"
          ]
        }
      ],
      "source": [
        "\n",
        "from nltk.stem import PorterStemmer\n",
        "\n",
        "nltk.download( 'punkt' )\n",
        "stemmer = PorterStemmer()\n"
      ]
    },
    {
      "cell_type": "code",
      "execution_count": null,
      "metadata": {
        "id": "stu4LVfmSVjP"
      },
      "outputs": [],
      "source": [
        "\n",
        "def to_stem( word_list: list[ str ] ) -> list[ str ]:\n",
        "  stems = []\n",
        "\n",
        "  for word in word_list:\n",
        "    stems.append( stemmer.stem( word ) )\n",
        "\n",
        "  return stems\n",
        "\n",
        "\n",
        "stem_rdd = no_numbers_rdd.map(\n",
        "    lambda id_words: ( id_words[ 0 ], to_stem( id_words[ 1 ] ) )\n",
        ")\n"
      ]
    },
    {
      "cell_type": "code",
      "execution_count": null,
      "metadata": {
        "id": "LYmmvvDpSVjP"
      },
      "outputs": [],
      "source": [
        "\n",
        "def join_words( word_list: list[ str ]) -> list[ str ]:\n",
        "  joined_words = ''\n",
        "\n",
        "  for word in word_list:\n",
        "    joined_words = joined_words + word\n",
        "    if word != word_list[ -1 ]:\n",
        "      joined_words = joined_words + ' '\n",
        "\n",
        "  return joined_words\n",
        "\n",
        "\n",
        "cleaned_rdd = stem_rdd.map(\n",
        "    lambda id_txt: ( id_txt[ 0 ], join_words( id_txt[ 1 ] ) )\n",
        ")\n",
        "\n",
        "force_exec = cleaned_rdd.take( 1 )\n"
      ]
    },
    {
      "cell_type": "code",
      "execution_count": null,
      "metadata": {
        "id": "FZa_iCzDSVjP"
      },
      "outputs": [],
      "source": [
        "\n",
        "def extract_kgrams( s: str, n: int ) -> list[ str ]:\n",
        "  kgrams = []\n",
        "\n",
        "  for i in range( len( s ) - n + 1 ):\n",
        "    kgram = s[ i : i + n ]\n",
        "    kgrams.append( kgram )\n",
        "\n",
        "  return kgrams\n",
        "\n",
        "\n",
        "kgrams_rdd = cleaned_rdd.map(\n",
        "    lambda id_txt: ( id_txt[ 0 ], extract_kgrams( id_txt[ 1 ], k ) )\n",
        ")\n"
      ]
    },
    {
      "cell_type": "code",
      "execution_count": null,
      "metadata": {
        "id": "QTTRL71RSVjQ"
      },
      "outputs": [],
      "source": [
        "\n",
        "import hashlib\n",
        "\n",
        "\n",
        "def create_hash_function( i, result_size=4 ):\n",
        "  salt = str( i ).encode( 'utf-8' )\n",
        "\n",
        "  def hash_string( input_string ):\n",
        "    data = str( input_string ).encode( 'utf-8' ) + salt\n",
        "    hashed = hashlib.sha256( data ).hexdigest()\n",
        "\n",
        "    return hashed[ :result_size ]\n",
        "\n",
        "  return hash_string\n"
      ]
    },
    {
      "cell_type": "code",
      "execution_count": null,
      "metadata": {
        "id": "UATprmiSSVjQ"
      },
      "outputs": [],
      "source": [
        "\n",
        "from typing import Callable\n",
        "\n",
        "\n",
        "def hash_kgrams(\n",
        "    kgrams: list[ str ], hash_func: Callable[ [ str ], str ] ) -> list[ str ]:\n",
        "\n",
        "  hashed_kgrams = []\n",
        "\n",
        "  for kgram in kgrams:\n",
        "    hashed_kgrams.append( hash_func( kgram ) )\n",
        "\n",
        "  return hashed_kgrams\n",
        "\n",
        "\n",
        "hash_func = create_hash_function( 123 )\n",
        "\n",
        "hashed_kgrams = kgrams_rdd.map(\n",
        "    lambda kgram: ( kgram[ 0 ], hash_kgrams( kgram[ 1 ], hash_func ) )\n",
        ")\n",
        "\n",
        "force_exec = hashed_kgrams.take( 1 )\n"
      ]
    },
    {
      "cell_type": "code",
      "execution_count": null,
      "metadata": {
        "id": "iokS9RKuSVjR"
      },
      "outputs": [],
      "source": [
        "\n",
        "def min_hash( kgrams: list, k: int ) -> int:\n",
        "  hash_func = create_hash_function( k )\n",
        "  min_signature = float( 'inf' )\n",
        "\n",
        "  for kgram in kgrams:\n",
        "    hash_signature = int( hash_func( kgram ), 16 )\n",
        "\n",
        "    if hash_signature < min_signature:\n",
        "      min_signature = hash_signature\n",
        "\n",
        "  return min_signature\n"
      ]
    },
    {
      "cell_type": "code",
      "execution_count": null,
      "metadata": {
        "id": "vKcAEaxxSVjR"
      },
      "outputs": [],
      "source": [
        "\n",
        "signature_matrix = hashed_kgrams.map(\n",
        "    lambda h_kgram:\n",
        "    ( h_kgram[ 0 ], [ min_hash( h_kgram[ 1 ], i ) for i in range( n ) ] )\n",
        ")\n"
      ]
    },
    {
      "cell_type": "code",
      "execution_count": null,
      "metadata": {
        "id": "fi_ZxyVpSVjS"
      },
      "outputs": [],
      "source": [
        "\n",
        "def divide_signature_matrix( id_sig: tuple[ int, list[ int ] ], bands: int,\n",
        "                             rows_per_band: int ):\n",
        "\n",
        "  doc_id = id_sig[ 0 ]\n",
        "  doc_sig = id_sig[ 1 ]\n",
        "\n",
        "  hash_func = create_hash_function( 123 )\n",
        "\n",
        "  out = []\n",
        "\n",
        "  for i in range( bands ):\n",
        "    band_id = i\n",
        "    offset = i * rows_per_band\n",
        "\n",
        "    column = ''.join( str( n ) for n in doc_sig[ offset : offset + rows_per_band ] )\n",
        "    bucket_id = hash_func( column )\n",
        "\n",
        "    key = ( band_id, bucket_id )\n",
        "    out.append(( key, doc_id ))\n",
        "\n",
        "  return out\n"
      ]
    },
    {
      "cell_type": "code",
      "execution_count": null,
      "metadata": {
        "id": "8TE3n7Y0SVjS"
      },
      "outputs": [],
      "source": [
        "\n",
        "from scipy.optimize import fsolve\n",
        "\n",
        "\n",
        "def func( x ):\n",
        "  b, r = x\n",
        "  eq1 = ( 1 / b )**( 1 / r ) - t\n",
        "  eq2 = b * r - n\n",
        "\n",
        "  return [ eq1, eq2 ]\n",
        "\n",
        "\n",
        "solutions = fsolve( func, [ 1, 1 ] )\n",
        "\n",
        "b_solution, r_solution = solutions\n"
      ]
    },
    {
      "cell_type": "code",
      "execution_count": null,
      "metadata": {
        "id": "FM-1QP2MSVjT",
        "colab": {
          "base_uri": "https://localhost:8080/"
        },
        "outputId": "723eadcb-ca44-4087-fc03-eb4ee79acf1a"
      },
      "outputs": [
        {
          "output_type": "execute_result",
          "data": {
            "text/plain": [
              "(36.3845585095641, 7.035951801771666)"
            ]
          },
          "metadata": {},
          "execution_count": 35
        }
      ],
      "source": [
        "( b_solution, r_solution )"
      ]
    },
    {
      "cell_type": "code",
      "execution_count": null,
      "metadata": {
        "id": "p24lgQ59SVjU"
      },
      "outputs": [],
      "source": [
        "\n",
        "from math import floor\n",
        "\n",
        "# Some hashes are going to be discarded\n",
        "b = floor( b_solution )\n",
        "r = floor( r_solution )\n"
      ]
    },
    {
      "cell_type": "code",
      "execution_count": null,
      "metadata": {
        "id": "gjATNL1ySVjV"
      },
      "outputs": [],
      "source": [
        "\n",
        "hashed_bands = signature_matrix.flatMap(\n",
        "    lambda x: divide_signature_matrix( x, b, r )\n",
        ")\n",
        "\n",
        "force_exec = hashed_bands.take( 1 )\n"
      ]
    },
    {
      "cell_type": "code",
      "execution_count": null,
      "metadata": {
        "id": "pOINNlUTSVjV"
      },
      "outputs": [],
      "source": [
        "\n",
        "candidates = hashed_bands.groupByKey().map(\n",
        "    lambda x: ( x[ 0 ], list( x[ 1 ] ) )\n",
        ")\n"
      ]
    },
    {
      "cell_type": "code",
      "execution_count": null,
      "metadata": {
        "id": "dxr0WtXcSVjW"
      },
      "outputs": [],
      "source": [
        "\n",
        "filtered_candidates = candidates.filter(\n",
        "    lambda collision_list: len( collision_list[ 1 ] ) > 1\n",
        ")\n",
        "\n",
        "force_exec = filtered_candidates.take( 1 )\n"
      ]
    },
    {
      "cell_type": "code",
      "execution_count": null,
      "metadata": {
        "id": "OkW7fWPQSVjW"
      },
      "outputs": [],
      "source": [
        "\n",
        "import itertools\n",
        "\n",
        "\n",
        "def get_pairs( collisions_list: list ) -> tuple:\n",
        "  pair_list = []\n",
        "\n",
        "  for pair in itertools.combinations( collisions_list, 2 ):\n",
        "    pair_list.append( pair )\n",
        "\n",
        "  return tuple( pair_list )\n"
      ]
    },
    {
      "cell_type": "code",
      "execution_count": null,
      "metadata": {
        "id": "Mqqb9WyrSVjW"
      },
      "outputs": [],
      "source": [
        "\n",
        "candidate_pairs = filtered_candidates.flatMap(\n",
        "    lambda pairs: get_pairs( pairs[ 1 ] )\n",
        ").distinct()\n"
      ]
    },
    {
      "cell_type": "code",
      "source": [
        "\n",
        "candidate_pairs_set = candidate_pairs.collect()\n",
        "candidate_reviews = { 'id1': [], 'txt1': [], 'id2': [], 'txt2': [] }\n",
        "\n",
        "for candidate_pair in candidate_pairs_set:\n",
        "  id1, id2 = candidate_pair\n",
        "  txt1 = id_txt[ id_txt.review_id == id1 ].text.values[ 0 ]\n",
        "  txt2 = id_txt[ id_txt.review_id == id2 ].text.values[ 0 ]\n",
        "\n",
        "  candidate_reviews[ 'id1' ].append( id1 )\n",
        "  candidate_reviews[ 'txt1' ].append( txt1 )\n",
        "  candidate_reviews[ 'id2' ].append( id2 )\n",
        "  candidate_reviews[ 'txt2' ].append( txt2 )\n",
        "\n",
        "candidate_reviews_df = pd.DataFrame.from_dict( candidate_reviews )\n"
      ],
      "metadata": {
        "id": "Nn7f3Rzua0kj"
      },
      "execution_count": null,
      "outputs": []
    },
    {
      "cell_type": "code",
      "source": [
        "\n",
        "candidates_set = { candidate for candidate_pair in candidate_pairs_set\n",
        "                             for candidate in candidate_pair }\n"
      ],
      "metadata": {
        "id": "eazrDbG7dqwP"
      },
      "execution_count": null,
      "outputs": []
    },
    {
      "cell_type": "code",
      "source": [
        "\n",
        "# candidate_kgrams = kgrams_rdd.filter(\n",
        "#     lambda id_kgrams: id_kgrams[ 0 ] in candidates_set\n",
        "# )\n",
        "\n",
        "candidate_signatures = signature_matrix.filter(\n",
        "    lambda id_signature: id_signature[ 0 ] in candidates_set\n",
        ")\n"
      ],
      "metadata": {
        "id": "7ogLSi0FqhwI"
      },
      "execution_count": null,
      "outputs": []
    },
    {
      "cell_type": "code",
      "source": [
        "\n",
        "# cartesian_kgrams = candidate_kgrams.cartesian( candidate_kgrams )\n",
        "cartesian_signatures = candidate_signatures.cartesian( candidate_signatures )\n"
      ],
      "metadata": {
        "id": "Zypy4kkjrY6L"
      },
      "execution_count": null,
      "outputs": []
    },
    {
      "cell_type": "code",
      "source": [
        "\n",
        "# filtered_cartesian_kgrams = cartesian_kgrams.filter(\n",
        "#     lambda el: ( el[ 0 ][ 0 ], el[ 1 ][ 0 ] ) in candidate_pairs_set\n",
        "# )\n",
        "\n",
        "filtered_cartesian_signatures = cartesian_signatures.filter(\n",
        "    lambda el: ( el[ 0 ][ 0 ], el[ 1 ][ 0 ] ) in candidate_pairs_set\n",
        ")\n"
      ],
      "metadata": {
        "id": "qc5PvJlPrzW-"
      },
      "execution_count": null,
      "outputs": []
    },
    {
      "cell_type": "code",
      "source": [
        "\n",
        "def jaccard_sim( set1: set, set2: set ) -> float:\n",
        "  intersection_length = len( set1.intersection( set2 ) )\n",
        "  union_length = len( set1.union( set2 ) )\n",
        "\n",
        "  return float( intersection_length ) / float( union_length )\n"
      ],
      "metadata": {
        "id": "Z0ki9dvzKlsZ"
      },
      "execution_count": null,
      "outputs": []
    },
    {
      "cell_type": "code",
      "source": [
        "\n",
        "# jaccard_kgrams_rdd = filtered_cartesian_kgrams.map(\n",
        "#     lambda el: ( el[ 0 ][ 0 ], el[ 1 ][ 0 ],\n",
        "#                  jaccard_sim( set( el[ 0 ][ 1 ] ), set( el[ 1 ][ 1 ] ) ) )\n",
        "# )\n",
        "\n",
        "# jaccard_kgrams_df = jaccard_kgrams_rdd.toDF()\n",
        "# jaccard_kgrams_df.head()\n"
      ],
      "metadata": {
        "id": "ww6SFwQZPGmE"
      },
      "execution_count": null,
      "outputs": []
    },
    {
      "cell_type": "code",
      "source": [
        "\n",
        "# jaccard_kgrams_pd = jaccard_kgrams_df.toPandas()\n",
        "# jaccard_kgrams_pd = jaccard_kgrams_pd.sort_values( by=[ '_3' ], ascending=False )\n",
        "# jaccard_kgrams_pd.head( 4 )\n"
      ],
      "metadata": {
        "id": "FRZ7w0h5Upv3"
      },
      "execution_count": null,
      "outputs": []
    },
    {
      "cell_type": "code",
      "source": [
        "\n",
        "jaccard_signatures_rdd = filtered_cartesian_signatures.map(\n",
        "    lambda el: ( el[ 0 ][ 0 ], el[ 1 ][ 0 ],\n",
        "                 jaccard_sim( set( el[ 0 ][ 1 ] ), set( el[ 1 ][ 1 ] ) ) )\n",
        ")\n",
        "\n",
        "force_exec = jaccard_signatures_rdd.take( 1 )\n",
        "# jaccard_signatures_df = jaccard_signatures_rdd.toDF()\n",
        "# force_exec = jaccard_signatures_df.take( 1 )\n"
      ],
      "metadata": {
        "id": "yJXyMnVHi3G7"
      },
      "execution_count": null,
      "outputs": []
    },
    {
      "cell_type": "code",
      "source": [
        "\n",
        "# jaccard_signatures_pd = jaccard_signatures_df.toPandas()\n",
        "top_elements = jaccard_signatures_rdd.top( 5, key=lambda x: x[ 2 ] )\n",
        "print( top_elements )\n"
      ],
      "metadata": {
        "id": "HD7xKnIJpRGO",
        "colab": {
          "base_uri": "https://localhost:8080/"
        },
        "outputId": "4541b2d3-ee5f-4a03-9566-0bbbf18aa3d5"
      },
      "execution_count": null,
      "outputs": [
        {
          "output_type": "stream",
          "name": "stdout",
          "text": [
            "[('o5O3CYV79dTN8O9mFijmFA', 'SbeoXuUHy1xgL-o7Urpkeg', 0.4406779661016949), ('rF18WhkhtFysLHc8zX2ypA', '6eYJwilLx5q6FRU31i7eLA', 0.43646408839779005), ('xSl2-eyZt0Cbo_lynugdlg', 'lauwOnBdscDiWd2bxAbMBw', 0.4349775784753363), ('kRN7_ajyY-PR19x-8Mc-Hw', 'aRe94o2uD4aY-eqbAl-nLg', 0.43315508021390375), ('hojoM8hgdzF4iOc6_XZ9tQ', 'mb4jlH040AXxoOwlGdPoCQ', 0.42995169082125606)]\n"
          ]
        }
      ]
    },
    {
      "cell_type": "code",
      "source": [
        "\n",
        "id_txt[ id_txt.review_id == top_elements[ 0 ][ 0 ] ].text.values\n"
      ],
      "metadata": {
        "id": "ki1ooFMGW6aI",
        "colab": {
          "base_uri": "https://localhost:8080/"
        },
        "outputId": "5584df60-a78a-45f9-8afc-06dec6c76fdf"
      },
      "execution_count": null,
      "outputs": [
        {
          "output_type": "execute_result",
          "data": {
            "text/plain": [
              "array([\"Finally went to Delicia! My boyfriend and I went there for date night and had a fantastic time! At 7:15 on a Tuesday, the place was lively but there was no wait for a table for 2. The decor is cool and romantic, the host was very gracious, and our waiter, Shawn, was friendly and made good recommendations. I loved my margarita, and my boyfriend's sangria was tasty - nice and winey! I also tried the mojito. It was good... but tasted like Double Mint gum to me - not in a bad way but not in a way I liked. If you tasted the same thing, please, PLEASE message me so I feel less crazy! \\n\\nAnyway, the queso fundido appetizer was delicious and unique (the chips were great too). For dinner, he got the beef empanadas and I got the duck enchiladas. When we go back to Delicia again (and we will), I want to try the scallops, but the duck enchiladas, rice and beans were so good it's hard to imagine ordering anything else! My boyfriend really enjoyed the flaky empanadas, as well. We chose wisely.\\n\\nFinally, we tried the Fire and Ice cocktail, about which I've heard plenty of raves. Well, it wasn't really our thing. I mean, it's a quality cocktail, and the chile ice ball is very cool, but  it tastes like drinking jalapenos! I guess some people like that, so power to them. But while I didn't love the cocktail, I'm glad it's something you can get in Indy, you know? Delicia is a great restaurant that helps take Indy's food and cocktail scene up another notch.\"],\n",
              "      dtype=object)"
            ]
          },
          "metadata": {},
          "execution_count": 53
        }
      ]
    },
    {
      "cell_type": "code",
      "source": [
        "id_txt[ id_txt.review_id == top_elements[ 0 ][ 1 ] ].text.values"
      ],
      "metadata": {
        "colab": {
          "base_uri": "https://localhost:8080/"
        },
        "id": "zT6AdcQw84n8",
        "outputId": "10cbd0b2-ddf1-4bcb-e6d3-3d551f587649"
      },
      "execution_count": null,
      "outputs": [
        {
          "output_type": "execute_result",
          "data": {
            "text/plain": [
              "array(['\"Top donuts in the country? \"\\n\\nOkay. Whenever I read something that says \"top ten blah blah of something in the us or state of\" my wife and I are extremely hesitant because it sounds like a gimmick. After coming to experience this place first hand I can understand why you would make that statement. We visited on a Thursday 10:30amish with a line of 5 people. They don\\'t serve sliders until 11am and this gave us a great opportunity to do both separately.\\n\\nAmbience:\\nAlot of character and with a ton of regulars. They were on a first name basis with half the people in the place. Located on magazine st in the garden district. Artsy stuff. Nice street to walk, explore, and shop.\\n\\nFood:\\nThey categorize their donuts into 3 categories to simplify pricing. Reg/fancy/more fancy. This is brilliant as it speeds up the ordering but they still carry variety on their menu.\\n\\nGlazed donut 4/5\\nThis was a good, well balanced donut. Not overly sweet but had characteristics of what you expect from a donut. I prefer my donuts a bit under cooked but this didn\\'t change the pillow like texture one would desire. The glaze was delicate yet slept on the donut. It didn\\'t over power it at all.\\n\\nFrench Toast donut 5/5\\nMy wife had this one and was very surprised by the balance this donut had. Generally, donuts are rich and over the top in these types of establishments, but the donuts made here tasted like they had a plan and they were going to make it their way and not please us the customer. I have alot of respect for these places.\\n\\nFried chicken slider 4/5\\nSmall in stature but tasty, balanced and filling. Don\\'t let this slider fool you. It makes a statement with all the pieces it carries: the slaw was amazing, the chicken fried and seasoned properly, to the pickled jalapeño. Great combination.\\n\\nPork belly slider 3/5\\nThis slider is very popular among their clientele. Good slider. Picked onion brings nice tart and cuts richness of the belly, the herbs leaves brings a certain bitterness that contrasted the fattiness of the belly. The belly itself was properly cooked. Slow roasted ahead of time then heated up on the flat top for crust. Seasoned well and you get that concentration of the cure. I would have had less of a dry brine imo, but that\\'s just me. My wife says I\\'m being picky.\\n\\nDrink:\\nCold brew. 4/5\\nI enjoyed this and honestly had to settle for this. They normally have the Nitro cold brew but it wasn\\'t working today. On a Louisiana humid sunny day there is nothing like proper iced coffee.\\n\\nService:\\nFriendly but for sure they cater to the locals. They aren\\'t here for tourists and they shouldn\\'t baby the tourists. 5/5'],\n",
              "      dtype=object)"
            ]
          },
          "metadata": {},
          "execution_count": 55
        }
      ]
    },
    {
      "cell_type": "code",
      "source": [],
      "metadata": {
        "id": "zgjP_mLw9EuZ"
      },
      "execution_count": null,
      "outputs": []
    }
  ]
}